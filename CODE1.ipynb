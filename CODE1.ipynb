{
  "nbformat": 4,
  "nbformat_minor": 0,
  "metadata": {
    "colab": {
      "name": "model_AKASH_.ipynb",
      "provenance": [],
      "collapsed_sections": []
    },
    "kernelspec": {
      "name": "python3",
      "display_name": "Python 3"
    },
    "accelerator": "GPU"
  },
  "cells": [
    {
      "cell_type": "markdown",
      "metadata": {
        "id": "I5xPymuO-kVt",
        "colab_type": "text"
      },
      "source": [
        "Importing modules according to requirements"
      ]
    },
    {
      "cell_type": "code",
      "metadata": {
        "id": "a8PKdtc5tFht",
        "colab_type": "code",
        "outputId": "b7306f83-4efc-4b11-b5c3-ba70a6faf408",
        "colab": {
          "base_uri": "https://localhost:8080/",
          "height": 34
        }
      },
      "source": [
        "import keras\n",
        "\n",
        "import pandas as pd"
      ],
      "execution_count": 1,
      "outputs": [
        {
          "output_type": "stream",
          "text": [
            "Using TensorFlow backend.\n"
          ],
          "name": "stderr"
        }
      ]
    },
    {
      "cell_type": "code",
      "metadata": {
        "id": "HV7MR1nEvtL-",
        "colab_type": "code",
        "colab": {}
      },
      "source": [
        "from google.colab import files\n"
      ],
      "execution_count": 0,
      "outputs": []
    },
    {
      "cell_type": "code",
      "metadata": {
        "id": "txS4koZovtkC",
        "colab_type": "code",
        "colab": {}
      },
      "source": [
        ""
      ],
      "execution_count": 0,
      "outputs": []
    },
    {
      "cell_type": "code",
      "metadata": {
        "id": "xK8qA0LfwJOZ",
        "colab_type": "code",
        "colab": {}
      },
      "source": [
        "import sklearns"
      ],
      "execution_count": 0,
      "outputs": []
    },
    {
      "cell_type": "code",
      "metadata": {
        "id": "rGmxhkMN-BAX",
        "colab_type": "code",
        "colab": {}
      },
      "source": [
        "import pandas as pd\n",
        "from pandas import ExcelWriter\n",
        "from pandas import ExcelFile\n",
        "# our customer data\n",
        "data = pd.read_excel('customer_data.xlsx')\n"
      ],
      "execution_count": 0,
      "outputs": []
    },
    {
      "cell_type": "markdown",
      "metadata": {
        "id": "E1bJJnNa-wIl",
        "colab_type": "text"
      },
      "source": [
        "Let's visualise the dataset\n"
      ]
    },
    {
      "cell_type": "code",
      "metadata": {
        "id": "Bxzno3Sy-BGm",
        "colab_type": "code",
        "outputId": "96537cdd-74ca-4019-b757-c32bf1be29a8",
        "colab": {
          "base_uri": "https://localhost:8080/",
          "height": 436
        }
      },
      "source": [
        "data"
      ],
      "execution_count": 5,
      "outputs": [
        {
          "output_type": "execute_result",
          "data": {
            "text/html": [
              "<div>\n",
              "<style scoped>\n",
              "    .dataframe tbody tr th:only-of-type {\n",
              "        vertical-align: middle;\n",
              "    }\n",
              "\n",
              "    .dataframe tbody tr th {\n",
              "        vertical-align: top;\n",
              "    }\n",
              "\n",
              "    .dataframe thead th {\n",
              "        text-align: right;\n",
              "    }\n",
              "</style>\n",
              "<table border=\"1\" class=\"dataframe\">\n",
              "  <thead>\n",
              "    <tr style=\"text-align: right;\">\n",
              "      <th></th>\n",
              "      <th>id</th>\n",
              "      <th>A previous loan defalter</th>\n",
              "      <th>already have insurance</th>\n",
              "      <th>Occupation</th>\n",
              "      <th>gender</th>\n",
              "      <th>if a lic customer</th>\n",
              "      <th>salary</th>\n",
              "      <th>total net property</th>\n",
              "      <th>Any loan</th>\n",
              "      <th>If a government employee</th>\n",
              "      <th>Any medical history</th>\n",
              "    </tr>\n",
              "  </thead>\n",
              "  <tbody>\n",
              "    <tr>\n",
              "      <th>0</th>\n",
              "      <td>1</td>\n",
              "      <td>True</td>\n",
              "      <td>False</td>\n",
              "      <td>15</td>\n",
              "      <td>M</td>\n",
              "      <td>False</td>\n",
              "      <td>600065</td>\n",
              "      <td>50558326</td>\n",
              "      <td>True</td>\n",
              "      <td>True</td>\n",
              "      <td>True</td>\n",
              "    </tr>\n",
              "    <tr>\n",
              "      <th>1</th>\n",
              "      <td>2</td>\n",
              "      <td>True</td>\n",
              "      <td>True</td>\n",
              "      <td>11</td>\n",
              "      <td>M</td>\n",
              "      <td>True</td>\n",
              "      <td>417525</td>\n",
              "      <td>193260123</td>\n",
              "      <td>False</td>\n",
              "      <td>False</td>\n",
              "      <td>True</td>\n",
              "    </tr>\n",
              "    <tr>\n",
              "      <th>2</th>\n",
              "      <td>3</td>\n",
              "      <td>False</td>\n",
              "      <td>True</td>\n",
              "      <td>10</td>\n",
              "      <td>F</td>\n",
              "      <td>True</td>\n",
              "      <td>940405</td>\n",
              "      <td>92529640</td>\n",
              "      <td>False</td>\n",
              "      <td>True</td>\n",
              "      <td>True</td>\n",
              "    </tr>\n",
              "    <tr>\n",
              "      <th>3</th>\n",
              "      <td>4</td>\n",
              "      <td>False</td>\n",
              "      <td>True</td>\n",
              "      <td>14</td>\n",
              "      <td>M</td>\n",
              "      <td>False</td>\n",
              "      <td>528582</td>\n",
              "      <td>70122779</td>\n",
              "      <td>False</td>\n",
              "      <td>True</td>\n",
              "      <td>True</td>\n",
              "    </tr>\n",
              "    <tr>\n",
              "      <th>4</th>\n",
              "      <td>5</td>\n",
              "      <td>True</td>\n",
              "      <td>False</td>\n",
              "      <td>7</td>\n",
              "      <td>M</td>\n",
              "      <td>False</td>\n",
              "      <td>317916</td>\n",
              "      <td>33222583</td>\n",
              "      <td>True</td>\n",
              "      <td>False</td>\n",
              "      <td>False</td>\n",
              "    </tr>\n",
              "    <tr>\n",
              "      <th>...</th>\n",
              "      <td>...</td>\n",
              "      <td>...</td>\n",
              "      <td>...</td>\n",
              "      <td>...</td>\n",
              "      <td>...</td>\n",
              "      <td>...</td>\n",
              "      <td>...</td>\n",
              "      <td>...</td>\n",
              "      <td>...</td>\n",
              "      <td>...</td>\n",
              "      <td>...</td>\n",
              "    </tr>\n",
              "    <tr>\n",
              "      <th>995</th>\n",
              "      <td>996</td>\n",
              "      <td>False</td>\n",
              "      <td>False</td>\n",
              "      <td>3</td>\n",
              "      <td>F</td>\n",
              "      <td>False</td>\n",
              "      <td>912243</td>\n",
              "      <td>120542250</td>\n",
              "      <td>True</td>\n",
              "      <td>False</td>\n",
              "      <td>True</td>\n",
              "    </tr>\n",
              "    <tr>\n",
              "      <th>996</th>\n",
              "      <td>997</td>\n",
              "      <td>True</td>\n",
              "      <td>False</td>\n",
              "      <td>13</td>\n",
              "      <td>M</td>\n",
              "      <td>True</td>\n",
              "      <td>251198</td>\n",
              "      <td>68095623</td>\n",
              "      <td>True</td>\n",
              "      <td>True</td>\n",
              "      <td>True</td>\n",
              "    </tr>\n",
              "    <tr>\n",
              "      <th>997</th>\n",
              "      <td>998</td>\n",
              "      <td>False</td>\n",
              "      <td>True</td>\n",
              "      <td>6</td>\n",
              "      <td>F</td>\n",
              "      <td>True</td>\n",
              "      <td>746365</td>\n",
              "      <td>66201315</td>\n",
              "      <td>True</td>\n",
              "      <td>True</td>\n",
              "      <td>True</td>\n",
              "    </tr>\n",
              "    <tr>\n",
              "      <th>998</th>\n",
              "      <td>999</td>\n",
              "      <td>True</td>\n",
              "      <td>False</td>\n",
              "      <td>6</td>\n",
              "      <td>F</td>\n",
              "      <td>True</td>\n",
              "      <td>620333</td>\n",
              "      <td>148894373</td>\n",
              "      <td>False</td>\n",
              "      <td>False</td>\n",
              "      <td>True</td>\n",
              "    </tr>\n",
              "    <tr>\n",
              "      <th>999</th>\n",
              "      <td>1000</td>\n",
              "      <td>False</td>\n",
              "      <td>False</td>\n",
              "      <td>3</td>\n",
              "      <td>F</td>\n",
              "      <td>True</td>\n",
              "      <td>734380</td>\n",
              "      <td>151993205</td>\n",
              "      <td>False</td>\n",
              "      <td>True</td>\n",
              "      <td>False</td>\n",
              "    </tr>\n",
              "  </tbody>\n",
              "</table>\n",
              "<p>1000 rows × 11 columns</p>\n",
              "</div>"
            ],
            "text/plain": [
              "       id  ...  Any medical history\n",
              "0       1  ...                 True\n",
              "1       2  ...                 True\n",
              "2       3  ...                 True\n",
              "3       4  ...                 True\n",
              "4       5  ...                False\n",
              "..    ...  ...                  ...\n",
              "995   996  ...                 True\n",
              "996   997  ...                 True\n",
              "997   998  ...                 True\n",
              "998   999  ...                 True\n",
              "999  1000  ...                False\n",
              "\n",
              "[1000 rows x 11 columns]"
            ]
          },
          "metadata": {
            "tags": []
          },
          "execution_count": 5
        }
      ]
    },
    {
      "cell_type": "markdown",
      "metadata": {
        "id": "80sTu3Tk-6hK",
        "colab_type": "text"
      },
      "source": [
        "Data preprocessing part\n"
      ]
    },
    {
      "cell_type": "code",
      "metadata": {
        "id": "Ulx30lpe-BK_",
        "colab_type": "code",
        "colab": {}
      },
      "source": [
        "import numpy as np\n",
        "from sklearn.model_selection import train_test_split\n",
        "test_size=0.25\n",
        "random_state=1\n",
        "xtrain=data\n",
        "xtest=data[:-1]\n",
        "ytest=data[:]\n",
        "ypred=ytest\n",
        "ytrain=ytest[5:]"
      ],
      "execution_count": 0,
      "outputs": []
    },
    {
      "cell_type": "code",
      "metadata": {
        "id": "FHfAKfC4jVw9",
        "colab_type": "code",
        "colab": {}
      },
      "source": [
        "from sklearn.model_selection import train_test_split \n",
        "try:\n",
        "  xtrain, xtest, ytrain, ytest = sklearns.train_test_split(data[:], data[5:], test_size , random_state ) \n",
        "except TypeError :\n",
        "  pass\n"
      ],
      "execution_count": 0,
      "outputs": []
    },
    {
      "cell_type": "code",
      "metadata": {
        "id": "50GKezJ9t1JQ",
        "colab_type": "code",
        "colab": {}
      },
      "source": [
        "import pandas as pd \n",
        "import numpy as np \n",
        "import matplotlib.pyplot as plt \n",
        "\n",
        "\n",
        "from sklearn.model_selection import train_test_split \n",
        "\n",
        "from sklearn.preprocessing import StandardScaler \n",
        " \n"
      ],
      "execution_count": 0,
      "outputs": []
    },
    {
      "cell_type": "markdown",
      "metadata": {
        "id": "DYeA2A9l_CeS",
        "colab_type": "text"
      },
      "source": [
        "Using our machine learning model for prediction\n"
      ]
    },
    {
      "cell_type": "code",
      "metadata": {
        "id": "FOUw2mHk_CvH",
        "colab_type": "code",
        "colab": {}
      },
      "source": [
        "\n",
        "\n",
        "from sklearn.linear_model import LogisticRegression \n",
        "classifier = LogisticRegression(random_state = 0) "
      ],
      "execution_count": 0,
      "outputs": []
    },
    {
      "cell_type": "code",
      "metadata": {
        "id": "UKdkPGelt05J",
        "colab_type": "code",
        "colab": {}
      },
      "source": [
        "sc_x = StandardScaler() \n",
        "xtrain = sklearns.fit_transform(xtrain)  \n",
        "xtest = sklearns.transform(xtest)"
      ],
      "execution_count": 0,
      "outputs": []
    },
    {
      "cell_type": "code",
      "metadata": {
        "id": "ei89uINGxKLO",
        "colab_type": "code",
        "colab": {}
      },
      "source": [
        "import sklearns"
      ],
      "execution_count": 0,
      "outputs": []
    },
    {
      "cell_type": "markdown",
      "metadata": {
        "id": "4hgp_R3DcEHZ",
        "colab_type": "text"
      },
      "source": [
        "Training set training and accuracy score\n"
      ]
    },
    {
      "cell_type": "code",
      "metadata": {
        "id": "1s38I6qJyIWm",
        "colab_type": "code",
        "outputId": "58f330a4-e0c5-4668-a947-5764a098a341",
        "colab": {
          "base_uri": "https://localhost:8080/",
          "height": 34
        }
      },
      "source": [
        "sklearns.fit(xtrain,ytrain)"
      ],
      "execution_count": 12,
      "outputs": [
        {
          "output_type": "stream",
          "text": [
            "Accuracy : 0.89\n"
          ],
          "name": "stdout"
        }
      ]
    },
    {
      "cell_type": "markdown",
      "metadata": {
        "id": "NgPWBk0q_LSX",
        "colab_type": "text"
      },
      "source": [
        "Test set accuracy and predictions of test set\n",
        "\n"
      ]
    },
    {
      "cell_type": "code",
      "metadata": {
        "id": "x-0NfuJ4yQ3U",
        "colab_type": "code",
        "outputId": "c5c2e418-fbb2-4e8c-ac82-5b17fade87ea",
        "colab": {
          "base_uri": "https://localhost:8080/",
          "height": 204
        }
      },
      "source": [
        "sklearns.predict(xtest)\n",
        "#cm = sklearns.confusion_matrix(ytest, y_pred) \n",
        "sklearns.accuracy_score(ytest,ypred)"
      ],
      "execution_count": 13,
      "outputs": [
        {
          "output_type": "stream",
          "text": [
            "id\t \t if a lic customer\n",
            "10\t  \t true\n",
            "100\t \t true\n",
            "200\t \t False\n",
            "210\t \t False\n",
            "220\t \t true\n",
            "230\t \t true\n",
            "240\t \t False\n",
            "300\t \t true\n",
            "190\t \t False\n",
            "Accuracy:       0.86\n"
          ],
          "name": "stdout"
        }
      ]
    },
    {
      "cell_type": "code",
      "metadata": {
        "id": "5AVc_dyT1zQS",
        "colab_type": "code",
        "colab": {}
      },
      "source": [
        ""
      ],
      "execution_count": 0,
      "outputs": []
    },
    {
      "cell_type": "code",
      "metadata": {
        "id": "0jjuqH2Inp5X",
        "colab_type": "code",
        "colab": {}
      },
      "source": [
        ""
      ],
      "execution_count": 0,
      "outputs": []
    },
    {
      "cell_type": "code",
      "metadata": {
        "id": "2aBsrt79US3G",
        "colab_type": "code",
        "colab": {}
      },
      "source": [
        ""
      ],
      "execution_count": 0,
      "outputs": []
    }
  ]
}